{
 "cells": [
  {
   "cell_type": "code",
   "execution_count": null,
   "id": "9018e03d",
   "metadata": {},
   "outputs": [
    {
     "name": "stdout",
     "output_type": "stream",
     "text": [
      "Collecting xgboost\n",
      "  Downloading xgboost-3.0.5-py3-none-win_amd64.whl.metadata (2.1 kB)\n",
      "Requirement already satisfied: numpy in c:\\users\\pc\\appdata\\roaming\\python\\python310\\site-packages (from xgboost) (2.2.6)\n",
      "Requirement already satisfied: scipy in c:\\users\\pc\\appdata\\local\\programs\\python\\python310\\lib\\site-packages (from xgboost) (1.15.3)\n",
      "Downloading xgboost-3.0.5-py3-none-win_amd64.whl (56.8 MB)\n",
      "   ---------------------------------------- 0.0/56.8 MB ? eta -:--:--\n",
      "   ---------------------------------------- 0.5/56.8 MB 3.4 MB/s eta 0:00:17\n",
      "   -- ------------------------------------- 4.2/56.8 MB 14.0 MB/s eta 0:00:04\n",
      "   ------- -------------------------------- 10.5/56.8 MB 20.4 MB/s eta 0:00:03\n",
      "   ------------ --------------------------- 17.8/56.8 MB 25.0 MB/s eta 0:00:02\n",
      "   ------------------ --------------------- 26.7/56.8 MB 29.2 MB/s eta 0:00:02\n",
      "   ---------------------- ----------------- 32.0/56.8 MB 29.0 MB/s eta 0:00:01\n",
      "   ---------------------------- ----------- 40.4/56.8 MB 30.5 MB/s eta 0:00:01\n",
      "   --------------------------------- ------ 47.7/56.8 MB 31.3 MB/s eta 0:00:01\n",
      "   ---------------------------------------  56.4/56.8 MB 32.6 MB/s eta 0:00:01\n",
      "   ---------------------------------------- 56.8/56.8 MB 31.8 MB/s eta 0:00:00\n",
      "Installing collected packages: xgboost\n",
      "Successfully installed xgboost-3.0.5\n",
      "Note: you may need to restart the kernel to use updated packages.\n"
     ]
    },
    {
     "name": "stderr",
     "output_type": "stream",
     "text": [
      "\n",
      "[notice] A new release of pip is available: 25.1.1 -> 25.2\n",
      "[notice] To update, run: python.exe -m pip install --upgrade pip\n"
     ]
    }
   ],
   "source": [
    "pip install wordcloud nltk sklearn pandas matplotlib seaborn xgboost"
   ]
  },
  {
   "cell_type": "code",
   "execution_count": 38,
   "id": "64d2a9d2",
   "metadata": {},
   "outputs": [
    {
     "name": "stderr",
     "output_type": "stream",
     "text": [
      "[nltk_data] Downloading package punkt to\n",
      "[nltk_data]     C:\\Users\\PC\\AppData\\Roaming\\nltk_data...\n",
      "[nltk_data]   Package punkt is already up-to-date!\n",
      "[nltk_data] Downloading package punkt_tab to\n",
      "[nltk_data]     C:\\Users\\PC\\AppData\\Roaming\\nltk_data...\n",
      "[nltk_data]   Package punkt_tab is already up-to-date!\n",
      "[nltk_data] Downloading package stopwords to\n",
      "[nltk_data]     C:\\Users\\PC\\AppData\\Roaming\\nltk_data...\n",
      "[nltk_data]   Package stopwords is already up-to-date!\n"
     ]
    },
    {
     "data": {
      "text/plain": [
       "True"
      ]
     },
     "execution_count": 38,
     "metadata": {},
     "output_type": "execute_result"
    }
   ],
   "source": [
    "# Importing neccessary libraries\n",
    "import numpy as np                  # For numerical operations\n",
    "import matplotlib.pyplot as plt     # For plotting graphs\n",
    "import pandas as pd                 # For data manipulation\n",
    "%matplotlib inline\n",
    "\n",
    "# Importing the wordcloud library\n",
    "from wordcloud import WordCloud\n",
    "\n",
    "# Importing NLTK libraries for natural language processing\n",
    "import nltk\n",
    "from nltk.corpus import stopwords # For stopwords\n",
    "\n",
    "# Downloading NLTK data\n",
    "nltk.download('punkt')\n",
    "nltk.download('punkt_tab')\n",
    "nltk.download('stopwords')\n",
    "\n",
    "\n",
    "\n"
   ]
  },
  {
   "cell_type": "code",
   "execution_count": 39,
   "id": "8d185118",
   "metadata": {},
   "outputs": [
    {
     "data": {
      "text/html": [
       "<div>\n",
       "<style scoped>\n",
       "    .dataframe tbody tr th:only-of-type {\n",
       "        vertical-align: middle;\n",
       "    }\n",
       "\n",
       "    .dataframe tbody tr th {\n",
       "        vertical-align: top;\n",
       "    }\n",
       "\n",
       "    .dataframe thead th {\n",
       "        text-align: right;\n",
       "    }\n",
       "</style>\n",
       "<table border=\"1\" class=\"dataframe\">\n",
       "  <thead>\n",
       "    <tr style=\"text-align: right;\">\n",
       "      <th></th>\n",
       "      <th>v1</th>\n",
       "      <th>v2</th>\n",
       "      <th>Unnamed: 2</th>\n",
       "      <th>Unnamed: 3</th>\n",
       "      <th>Unnamed: 4</th>\n",
       "    </tr>\n",
       "  </thead>\n",
       "  <tbody>\n",
       "    <tr>\n",
       "      <th>0</th>\n",
       "      <td>ham</td>\n",
       "      <td>Go until jurong point, crazy.. Available only ...</td>\n",
       "      <td>NaN</td>\n",
       "      <td>NaN</td>\n",
       "      <td>NaN</td>\n",
       "    </tr>\n",
       "    <tr>\n",
       "      <th>1</th>\n",
       "      <td>ham</td>\n",
       "      <td>Ok lar... Joking wif u oni...</td>\n",
       "      <td>NaN</td>\n",
       "      <td>NaN</td>\n",
       "      <td>NaN</td>\n",
       "    </tr>\n",
       "    <tr>\n",
       "      <th>2</th>\n",
       "      <td>spam</td>\n",
       "      <td>Free entry in 2 a wkly comp to win FA Cup fina...</td>\n",
       "      <td>NaN</td>\n",
       "      <td>NaN</td>\n",
       "      <td>NaN</td>\n",
       "    </tr>\n",
       "    <tr>\n",
       "      <th>3</th>\n",
       "      <td>ham</td>\n",
       "      <td>U dun say so early hor... U c already then say...</td>\n",
       "      <td>NaN</td>\n",
       "      <td>NaN</td>\n",
       "      <td>NaN</td>\n",
       "    </tr>\n",
       "    <tr>\n",
       "      <th>4</th>\n",
       "      <td>ham</td>\n",
       "      <td>Nah I don't think he goes to usf, he lives aro...</td>\n",
       "      <td>NaN</td>\n",
       "      <td>NaN</td>\n",
       "      <td>NaN</td>\n",
       "    </tr>\n",
       "  </tbody>\n",
       "</table>\n",
       "</div>"
      ],
      "text/plain": [
       "     v1                                                 v2 Unnamed: 2  \\\n",
       "0   ham  Go until jurong point, crazy.. Available only ...        NaN   \n",
       "1   ham                      Ok lar... Joking wif u oni...        NaN   \n",
       "2  spam  Free entry in 2 a wkly comp to win FA Cup fina...        NaN   \n",
       "3   ham  U dun say so early hor... U c already then say...        NaN   \n",
       "4   ham  Nah I don't think he goes to usf, he lives aro...        NaN   \n",
       "\n",
       "  Unnamed: 3 Unnamed: 4  \n",
       "0        NaN        NaN  \n",
       "1        NaN        NaN  \n",
       "2        NaN        NaN  \n",
       "3        NaN        NaN  \n",
       "4        NaN        NaN  "
      ]
     },
     "execution_count": 39,
     "metadata": {},
     "output_type": "execute_result"
    }
   ],
   "source": [
    "df = pd.read_csv('spam.csv') # Reading the CSV file\n",
    "df.head() # Displaying the first few rows of the dataframe"
   ]
  },
  {
   "cell_type": "code",
   "execution_count": 40,
   "id": "45bcf9a8",
   "metadata": {},
   "outputs": [
    {
     "data": {
      "text/html": [
       "<div>\n",
       "<style scoped>\n",
       "    .dataframe tbody tr th:only-of-type {\n",
       "        vertical-align: middle;\n",
       "    }\n",
       "\n",
       "    .dataframe tbody tr th {\n",
       "        vertical-align: top;\n",
       "    }\n",
       "\n",
       "    .dataframe thead th {\n",
       "        text-align: right;\n",
       "    }\n",
       "</style>\n",
       "<table border=\"1\" class=\"dataframe\">\n",
       "  <thead>\n",
       "    <tr style=\"text-align: right;\">\n",
       "      <th></th>\n",
       "      <th>v1</th>\n",
       "      <th>v2</th>\n",
       "    </tr>\n",
       "  </thead>\n",
       "  <tbody>\n",
       "    <tr>\n",
       "      <th>0</th>\n",
       "      <td>ham</td>\n",
       "      <td>Go until jurong point, crazy.. Available only ...</td>\n",
       "    </tr>\n",
       "    <tr>\n",
       "      <th>1</th>\n",
       "      <td>ham</td>\n",
       "      <td>Ok lar... Joking wif u oni...</td>\n",
       "    </tr>\n",
       "    <tr>\n",
       "      <th>2</th>\n",
       "      <td>spam</td>\n",
       "      <td>Free entry in 2 a wkly comp to win FA Cup fina...</td>\n",
       "    </tr>\n",
       "    <tr>\n",
       "      <th>3</th>\n",
       "      <td>ham</td>\n",
       "      <td>U dun say so early hor... U c already then say...</td>\n",
       "    </tr>\n",
       "    <tr>\n",
       "      <th>4</th>\n",
       "      <td>ham</td>\n",
       "      <td>Nah I don't think he goes to usf, he lives aro...</td>\n",
       "    </tr>\n",
       "  </tbody>\n",
       "</table>\n",
       "</div>"
      ],
      "text/plain": [
       "     v1                                                 v2\n",
       "0   ham  Go until jurong point, crazy.. Available only ...\n",
       "1   ham                      Ok lar... Joking wif u oni...\n",
       "2  spam  Free entry in 2 a wkly comp to win FA Cup fina...\n",
       "3   ham  U dun say so early hor... U c already then say...\n",
       "4   ham  Nah I don't think he goes to usf, he lives aro..."
      ]
     },
     "execution_count": 40,
     "metadata": {},
     "output_type": "execute_result"
    }
   ],
   "source": [
    "df.drop(columns = ['Unnamed: 2', 'Unnamed: 3', 'Unnamed: 4'], inplace=True) # Dropping unnecessary columns\n",
    "df.head() # Displaying the first few rows of the dataframe after dropping columns"
   ]
  },
  {
   "cell_type": "code",
   "execution_count": 41,
   "id": "e3f50884",
   "metadata": {},
   "outputs": [
    {
     "data": {
      "text/html": [
       "<div>\n",
       "<style scoped>\n",
       "    .dataframe tbody tr th:only-of-type {\n",
       "        vertical-align: middle;\n",
       "    }\n",
       "\n",
       "    .dataframe tbody tr th {\n",
       "        vertical-align: top;\n",
       "    }\n",
       "\n",
       "    .dataframe thead th {\n",
       "        text-align: right;\n",
       "    }\n",
       "</style>\n",
       "<table border=\"1\" class=\"dataframe\">\n",
       "  <thead>\n",
       "    <tr style=\"text-align: right;\">\n",
       "      <th></th>\n",
       "      <th>target</th>\n",
       "      <th>text</th>\n",
       "    </tr>\n",
       "  </thead>\n",
       "  <tbody>\n",
       "    <tr>\n",
       "      <th>0</th>\n",
       "      <td>ham</td>\n",
       "      <td>Go until jurong point, crazy.. Available only ...</td>\n",
       "    </tr>\n",
       "    <tr>\n",
       "      <th>1</th>\n",
       "      <td>ham</td>\n",
       "      <td>Ok lar... Joking wif u oni...</td>\n",
       "    </tr>\n",
       "    <tr>\n",
       "      <th>2</th>\n",
       "      <td>spam</td>\n",
       "      <td>Free entry in 2 a wkly comp to win FA Cup fina...</td>\n",
       "    </tr>\n",
       "    <tr>\n",
       "      <th>3</th>\n",
       "      <td>ham</td>\n",
       "      <td>U dun say so early hor... U c already then say...</td>\n",
       "    </tr>\n",
       "    <tr>\n",
       "      <th>4</th>\n",
       "      <td>ham</td>\n",
       "      <td>Nah I don't think he goes to usf, he lives aro...</td>\n",
       "    </tr>\n",
       "  </tbody>\n",
       "</table>\n",
       "</div>"
      ],
      "text/plain": [
       "  target                                               text\n",
       "0    ham  Go until jurong point, crazy.. Available only ...\n",
       "1    ham                      Ok lar... Joking wif u oni...\n",
       "2   spam  Free entry in 2 a wkly comp to win FA Cup fina...\n",
       "3    ham  U dun say so early hor... U c already then say...\n",
       "4    ham  Nah I don't think he goes to usf, he lives aro..."
      ]
     },
     "execution_count": 41,
     "metadata": {},
     "output_type": "execute_result"
    }
   ],
   "source": [
    "df.rename(columns = {'v1':'target', 'v2':'text'}, inplace=True) # Renaming columns for better understanding\n",
    "df.head() # Displaying the first few rows of the dataframe after renaming columns"
   ]
  },
  {
   "cell_type": "markdown",
   "id": "00138642",
   "metadata": {},
   "source": [
    "Data Preprocessing"
   ]
  },
  {
   "cell_type": "code",
   "execution_count": 42,
   "id": "fb39864d",
   "metadata": {},
   "outputs": [
    {
     "data": {
      "text/html": [
       "<div>\n",
       "<style scoped>\n",
       "    .dataframe tbody tr th:only-of-type {\n",
       "        vertical-align: middle;\n",
       "    }\n",
       "\n",
       "    .dataframe tbody tr th {\n",
       "        vertical-align: top;\n",
       "    }\n",
       "\n",
       "    .dataframe thead th {\n",
       "        text-align: right;\n",
       "    }\n",
       "</style>\n",
       "<table border=\"1\" class=\"dataframe\">\n",
       "  <thead>\n",
       "    <tr style=\"text-align: right;\">\n",
       "      <th></th>\n",
       "      <th>target</th>\n",
       "      <th>text</th>\n",
       "    </tr>\n",
       "  </thead>\n",
       "  <tbody>\n",
       "    <tr>\n",
       "      <th>0</th>\n",
       "      <td>0</td>\n",
       "      <td>Go until jurong point, crazy.. Available only ...</td>\n",
       "    </tr>\n",
       "    <tr>\n",
       "      <th>1</th>\n",
       "      <td>0</td>\n",
       "      <td>Ok lar... Joking wif u oni...</td>\n",
       "    </tr>\n",
       "    <tr>\n",
       "      <th>2</th>\n",
       "      <td>1</td>\n",
       "      <td>Free entry in 2 a wkly comp to win FA Cup fina...</td>\n",
       "    </tr>\n",
       "    <tr>\n",
       "      <th>3</th>\n",
       "      <td>0</td>\n",
       "      <td>U dun say so early hor... U c already then say...</td>\n",
       "    </tr>\n",
       "    <tr>\n",
       "      <th>4</th>\n",
       "      <td>0</td>\n",
       "      <td>Nah I don't think he goes to usf, he lives aro...</td>\n",
       "    </tr>\n",
       "  </tbody>\n",
       "</table>\n",
       "</div>"
      ],
      "text/plain": [
       "   target                                               text\n",
       "0       0  Go until jurong point, crazy.. Available only ...\n",
       "1       0                      Ok lar... Joking wif u oni...\n",
       "2       1  Free entry in 2 a wkly comp to win FA Cup fina...\n",
       "3       0  U dun say so early hor... U c already then say...\n",
       "4       0  Nah I don't think he goes to usf, he lives aro..."
      ]
     },
     "execution_count": 42,
     "metadata": {},
     "output_type": "execute_result"
    }
   ],
   "source": [
    "from sklearn.preprocessing import LabelEncoder\n",
    "le = LabelEncoder()\n",
    "df['target'] = le.fit_transform(df['target']) # Encoding target labels (ham:0, spam:1)\n",
    "df.head() # Displaying the first few rows of the dataframe after encoding target labels"
   ]
  },
  {
   "cell_type": "code",
   "execution_count": 43,
   "id": "aad679c8",
   "metadata": {},
   "outputs": [
    {
     "data": {
      "text/plain": [
       "np.int64(403)"
      ]
     },
     "execution_count": 43,
     "metadata": {},
     "output_type": "execute_result"
    }
   ],
   "source": [
    "df.duplicated().sum() # Checking for duplicate rows"
   ]
  },
  {
   "cell_type": "code",
   "execution_count": 44,
   "id": "f1281c86",
   "metadata": {},
   "outputs": [
    {
     "data": {
      "text/plain": [
       "(5572, 2)"
      ]
     },
     "execution_count": 44,
     "metadata": {},
     "output_type": "execute_result"
    }
   ],
   "source": [
    "df.shape # Displaying the shape of the dataframe after removing duplicates"
   ]
  },
  {
   "cell_type": "code",
   "execution_count": 45,
   "id": "22346bcd",
   "metadata": {},
   "outputs": [
    {
     "data": {
      "text/plain": [
       "(5169, 2)"
      ]
     },
     "execution_count": 45,
     "metadata": {},
     "output_type": "execute_result"
    }
   ],
   "source": [
    "df = df.drop_duplicates(keep='first') # Dropping duplicate rows\n",
    "df.shape # Displaying the shape of the dataframe after removing duplicates"
   ]
  },
  {
   "cell_type": "markdown",
   "id": "4bda5186",
   "metadata": {},
   "source": [
    "Feature Engineering"
   ]
  },
  {
   "cell_type": "code",
   "execution_count": 46,
   "id": "d94a0fec",
   "metadata": {},
   "outputs": [],
   "source": [
    "# Importing PorterStemmer for stemming\n",
    "from nltk.stem.porter import PorterStemmer\n",
    "\n",
    "# Importing String library\n",
    "import string\n",
    "\n",
    "# Creatingg an instance of PorterStemmer\n",
    "ps = PorterStemmer()\n"
   ]
  },
  {
   "cell_type": "code",
   "execution_count": 47,
   "id": "6ddfb376",
   "metadata": {},
   "outputs": [],
   "source": [
    "# Lower case transfermation and text preprocessing function\n",
    "def transform_text(text):\n",
    "    \n",
    "    text = text.lower() # Converting text to lowercase\n",
    "    \n",
    "    text = nltk.word_tokenize(text) # Tokenizing the text\n",
    "    \n",
    "    y = []\n",
    "    \n",
    "    for i in text:\n",
    "        if i.isalnum(): # Removing special characters\n",
    "            y.append(i)\n",
    "    \n",
    "    text = y[:]\n",
    "    \n",
    "    y.clear()\n",
    "    \n",
    "    for i in text:\n",
    "        if i not in stopwords.words('english') and i not in string.punctuation: # Removing stopwords and punctuation\n",
    "            y.append(i)\n",
    "    \n",
    "    text = y[:]\n",
    "    y.clear()\n",
    "    \n",
    "    for i in text:\n",
    "        y.append(ps.stem(i)) # Stemming the words\n",
    "    \n",
    "    return \" \".join(y) # Joining the words back to form"
   ]
  },
  {
   "cell_type": "code",
   "execution_count": 48,
   "id": "50f8b060",
   "metadata": {},
   "outputs": [
    {
     "data": {
      "text/plain": [
       "'hello everyon learn natur languag process exampl text preprocess'"
      ]
     },
     "execution_count": 48,
     "metadata": {},
     "output_type": "execute_result"
    }
   ],
   "source": [
    "transform_text(\"Hello everyone, I am learning Natural Language Processing. This is an example of text preprocessing!!!\") # Testing the transform_text function"
   ]
  },
  {
   "cell_type": "code",
   "execution_count": 49,
   "id": "d04ffd89",
   "metadata": {},
   "outputs": [
    {
     "data": {
      "text/html": [
       "<div>\n",
       "<style scoped>\n",
       "    .dataframe tbody tr th:only-of-type {\n",
       "        vertical-align: middle;\n",
       "    }\n",
       "\n",
       "    .dataframe tbody tr th {\n",
       "        vertical-align: top;\n",
       "    }\n",
       "\n",
       "    .dataframe thead th {\n",
       "        text-align: right;\n",
       "    }\n",
       "</style>\n",
       "<table border=\"1\" class=\"dataframe\">\n",
       "  <thead>\n",
       "    <tr style=\"text-align: right;\">\n",
       "      <th></th>\n",
       "      <th>target</th>\n",
       "      <th>text</th>\n",
       "      <th>transformed_text</th>\n",
       "    </tr>\n",
       "  </thead>\n",
       "  <tbody>\n",
       "    <tr>\n",
       "      <th>0</th>\n",
       "      <td>0</td>\n",
       "      <td>Go until jurong point, crazy.. Available only ...</td>\n",
       "      <td>go jurong point crazi avail bugi n great world...</td>\n",
       "    </tr>\n",
       "    <tr>\n",
       "      <th>1</th>\n",
       "      <td>0</td>\n",
       "      <td>Ok lar... Joking wif u oni...</td>\n",
       "      <td>ok lar joke wif u oni</td>\n",
       "    </tr>\n",
       "    <tr>\n",
       "      <th>2</th>\n",
       "      <td>1</td>\n",
       "      <td>Free entry in 2 a wkly comp to win FA Cup fina...</td>\n",
       "      <td>free entri 2 wkli comp win fa cup final tkt 21...</td>\n",
       "    </tr>\n",
       "    <tr>\n",
       "      <th>3</th>\n",
       "      <td>0</td>\n",
       "      <td>U dun say so early hor... U c already then say...</td>\n",
       "      <td>u dun say earli hor u c alreadi say</td>\n",
       "    </tr>\n",
       "    <tr>\n",
       "      <th>4</th>\n",
       "      <td>0</td>\n",
       "      <td>Nah I don't think he goes to usf, he lives aro...</td>\n",
       "      <td>nah think goe usf live around though</td>\n",
       "    </tr>\n",
       "  </tbody>\n",
       "</table>\n",
       "</div>"
      ],
      "text/plain": [
       "   target                                               text  \\\n",
       "0       0  Go until jurong point, crazy.. Available only ...   \n",
       "1       0                      Ok lar... Joking wif u oni...   \n",
       "2       1  Free entry in 2 a wkly comp to win FA Cup fina...   \n",
       "3       0  U dun say so early hor... U c already then say...   \n",
       "4       0  Nah I don't think he goes to usf, he lives aro...   \n",
       "\n",
       "                                    transformed_text  \n",
       "0  go jurong point crazi avail bugi n great world...  \n",
       "1                              ok lar joke wif u oni  \n",
       "2  free entri 2 wkli comp win fa cup final tkt 21...  \n",
       "3                u dun say earli hor u c alreadi say  \n",
       "4               nah think goe usf live around though  "
      ]
     },
     "execution_count": 49,
     "metadata": {},
     "output_type": "execute_result"
    }
   ],
   "source": [
    "df['transformed_text'] = df['text'].apply(transform_text) # Applying the transform_text function to the text column\n",
    "df.head() # Displaying the first few rows of the dataframe after text transformation"
   ]
  },
  {
   "cell_type": "code",
   "execution_count": 50,
   "id": "134f92cd",
   "metadata": {},
   "outputs": [],
   "source": [
    "from sklearn.feature_extraction.text import CountVectorizer # For Bag of Words model\n",
    "from sklearn.feature_extraction.text import TfidfVectorizer # For TF-IDF model\n",
    "\n",
    "tfidf = TfidfVectorizer(max_features=500) # Creating an instance of TfidfVectorizer with a maximum of 500 features\n",
    "\n"
   ]
  },
  {
   "cell_type": "code",
   "execution_count": 51,
   "id": "4b2823e4",
   "metadata": {},
   "outputs": [],
   "source": [
    "\n",
    "x = tfidf.fit_transform(df['transformed_text']).toarray() # Fitting and transforming the transformed_text column\n",
    "y = df['target'].values # Target variable"
   ]
  },
  {
   "cell_type": "markdown",
   "id": "e0f06ed9",
   "metadata": {},
   "source": [
    "Train Test Split"
   ]
  },
  {
   "cell_type": "code",
   "execution_count": 52,
   "id": "bda60263",
   "metadata": {},
   "outputs": [],
   "source": [
    "from sklearn.model_selection import train_test_split\n",
    "x_train, x_test, y_train, y_test = train_test_split(x, y, test_size=0.2, random_state=2) # Splitting the data into training and testing sets"
   ]
  },
  {
   "cell_type": "markdown",
   "id": "a9a5b8d1",
   "metadata": {},
   "source": [
    "Model Training"
   ]
  },
  {
   "cell_type": "code",
   "execution_count": 55,
   "id": "2f5c5c2b",
   "metadata": {},
   "outputs": [],
   "source": [
    "from sklearn.linear_model import LogisticRegression\n",
    "from sklearn.svm import SVC\n",
    "from sklearn.naive_bayes import MultinomialNB\n",
    "from sklearn.tree import DecisionTreeClassifier\n",
    "from sklearn.neighbors import KNeighborsClassifier\n",
    "from sklearn.ensemble import RandomForestClassifier\n",
    "from sklearn.ensemble import AdaBoostClassifier\n",
    "from sklearn.ensemble import GradientBoostingClassifier\n",
    "from sklearn.ensemble import BaggingClassifier\n",
    "from sklearn.ensemble import ExtraTreesClassifier\n",
    "from xgboost import XGBClassifier"
   ]
  },
  {
   "cell_type": "code",
   "execution_count": 56,
   "id": "3bb0327f",
   "metadata": {},
   "outputs": [],
   "source": [
    "svc = SVC() # Creating an instance of SVC\n",
    "knc = KNeighborsClassifier() # Creating an instance of KNeighborsClassifier\n",
    "mnb = MultinomialNB() # Creating an instance of MultinomialNB\n",
    "dtc = DecisionTreeClassifier() # Creating an instance of DecisionTreeClassifier\n",
    "lrc = LogisticRegression() # Creating an instance of LogisticRegression\n",
    "rfc = RandomForestClassifier() # Creating an instance of RandomForestClassifier\n",
    "abc = AdaBoostClassifier() # Creating an instance of AdaBoostClassifier\n",
    "gbdt = GradientBoostingClassifier() # Creating an instance of GradientBoostingClassifier\n",
    "bc = BaggingClassifier() # Creating an instance of BaggingClassifier\n",
    "etc = ExtraTreesClassifier() # Creating an instance of ExtraTreesClassifier\n",
    "xgb = XGBClassifier() # Creating an instance of XGBClassifier"
   ]
  },
  {
   "cell_type": "code",
   "execution_count": 57,
   "id": "d1515b40",
   "metadata": {},
   "outputs": [],
   "source": [
    "clfs = {\n",
    "    'SVC': svc,\n",
    "    'KNeighborsClassifier': knc,\n",
    "    'MultinomialNB': mnb,\n",
    "    'DecisionTreeClassifier': dtc,\n",
    "    'LogisticRegression': lrc,\n",
    "    'RandomForestClassifier': rfc,\n",
    "    'AdaBoostClassifier': abc,\n",
    "    'GradientBoostingClassifier': gbdt,\n",
    "    'BaggingClassifier': bc,\n",
    "    'ExtraTreesClassifier': etc,\n",
    "    'XGBClassifier': xgb\n",
    "}"
   ]
  },
  {
   "cell_type": "markdown",
   "id": "1e7736d9",
   "metadata": {},
   "source": [
    "Model Evaluation"
   ]
  },
  {
   "cell_type": "code",
   "execution_count": 58,
   "id": "44055b96",
   "metadata": {},
   "outputs": [],
   "source": [
    "from sklearn.metrics import accuracy_score, confusion_matrix, precision_score, recall_score, f1_score\n",
    "\n",
    "def train_classifier(clf, x_train, y_train, x_test, y_test):\n",
    "    clf.fit(x_train, y_train) # Fitting the classifier on the training data\n",
    "    y_pred = clf.predict(x_test) # Predicting the target variable on the test data\n",
    "    accuracy = accuracy_score(y_test, y_pred) # Calculating accuracy\n",
    "    precision = precision_score(y_test, y_pred) # Calculating precision\n",
    "    recall = recall_score(y_test, y_pred) # Calculating recall\n",
    "    f1 = f1_score(y_test, y_pred) # Calculating f1 score\n",
    "    return accuracy, precision, recall, f1 # Returning the evaluation metrics"
   ]
  },
  {
   "cell_type": "code",
   "execution_count": 59,
   "id": "0747b3e5",
   "metadata": {},
   "outputs": [
    {
     "data": {
      "text/html": [
       "<div>\n",
       "<style scoped>\n",
       "    .dataframe tbody tr th:only-of-type {\n",
       "        vertical-align: middle;\n",
       "    }\n",
       "\n",
       "    .dataframe tbody tr th {\n",
       "        vertical-align: top;\n",
       "    }\n",
       "\n",
       "    .dataframe thead th {\n",
       "        text-align: right;\n",
       "    }\n",
       "</style>\n",
       "<table border=\"1\" class=\"dataframe\">\n",
       "  <thead>\n",
       "    <tr style=\"text-align: right;\">\n",
       "      <th></th>\n",
       "      <th>Model</th>\n",
       "      <th>Accuracy</th>\n",
       "      <th>Precision</th>\n",
       "      <th>Recall</th>\n",
       "      <th>F1 Score</th>\n",
       "    </tr>\n",
       "  </thead>\n",
       "  <tbody>\n",
       "    <tr>\n",
       "      <th>0</th>\n",
       "      <td>SVC</td>\n",
       "      <td>0.974855</td>\n",
       "      <td>0.982759</td>\n",
       "      <td>0.826087</td>\n",
       "      <td>0.897638</td>\n",
       "    </tr>\n",
       "    <tr>\n",
       "      <th>1</th>\n",
       "      <td>KNeighborsClassifier</td>\n",
       "      <td>0.927466</td>\n",
       "      <td>1.000000</td>\n",
       "      <td>0.456522</td>\n",
       "      <td>0.626866</td>\n",
       "    </tr>\n",
       "    <tr>\n",
       "      <th>2</th>\n",
       "      <td>MultinomialNB</td>\n",
       "      <td>0.970986</td>\n",
       "      <td>0.965517</td>\n",
       "      <td>0.811594</td>\n",
       "      <td>0.881890</td>\n",
       "    </tr>\n",
       "    <tr>\n",
       "      <th>3</th>\n",
       "      <td>DecisionTreeClassifier</td>\n",
       "      <td>0.950677</td>\n",
       "      <td>0.827068</td>\n",
       "      <td>0.797101</td>\n",
       "      <td>0.811808</td>\n",
       "    </tr>\n",
       "    <tr>\n",
       "      <th>4</th>\n",
       "      <td>LogisticRegression</td>\n",
       "      <td>0.966151</td>\n",
       "      <td>0.963964</td>\n",
       "      <td>0.775362</td>\n",
       "      <td>0.859438</td>\n",
       "    </tr>\n",
       "    <tr>\n",
       "      <th>5</th>\n",
       "      <td>RandomForestClassifier</td>\n",
       "      <td>0.972921</td>\n",
       "      <td>0.943548</td>\n",
       "      <td>0.847826</td>\n",
       "      <td>0.893130</td>\n",
       "    </tr>\n",
       "    <tr>\n",
       "      <th>6</th>\n",
       "      <td>AdaBoostClassifier</td>\n",
       "      <td>0.923598</td>\n",
       "      <td>0.873418</td>\n",
       "      <td>0.500000</td>\n",
       "      <td>0.635945</td>\n",
       "    </tr>\n",
       "    <tr>\n",
       "      <th>7</th>\n",
       "      <td>GradientBoostingClassifier</td>\n",
       "      <td>0.963250</td>\n",
       "      <td>0.946429</td>\n",
       "      <td>0.768116</td>\n",
       "      <td>0.848000</td>\n",
       "    </tr>\n",
       "    <tr>\n",
       "      <th>8</th>\n",
       "      <td>BaggingClassifier</td>\n",
       "      <td>0.959381</td>\n",
       "      <td>0.893443</td>\n",
       "      <td>0.789855</td>\n",
       "      <td>0.838462</td>\n",
       "    </tr>\n",
       "    <tr>\n",
       "      <th>9</th>\n",
       "      <td>ExtraTreesClassifier</td>\n",
       "      <td>0.975822</td>\n",
       "      <td>0.952000</td>\n",
       "      <td>0.862319</td>\n",
       "      <td>0.904943</td>\n",
       "    </tr>\n",
       "    <tr>\n",
       "      <th>10</th>\n",
       "      <td>XGBClassifier</td>\n",
       "      <td>0.970986</td>\n",
       "      <td>0.942623</td>\n",
       "      <td>0.833333</td>\n",
       "      <td>0.884615</td>\n",
       "    </tr>\n",
       "  </tbody>\n",
       "</table>\n",
       "</div>"
      ],
      "text/plain": [
       "                         Model  Accuracy  Precision    Recall  F1 Score\n",
       "0                          SVC  0.974855   0.982759  0.826087  0.897638\n",
       "1         KNeighborsClassifier  0.927466   1.000000  0.456522  0.626866\n",
       "2                MultinomialNB  0.970986   0.965517  0.811594  0.881890\n",
       "3       DecisionTreeClassifier  0.950677   0.827068  0.797101  0.811808\n",
       "4           LogisticRegression  0.966151   0.963964  0.775362  0.859438\n",
       "5       RandomForestClassifier  0.972921   0.943548  0.847826  0.893130\n",
       "6           AdaBoostClassifier  0.923598   0.873418  0.500000  0.635945\n",
       "7   GradientBoostingClassifier  0.963250   0.946429  0.768116  0.848000\n",
       "8            BaggingClassifier  0.959381   0.893443  0.789855  0.838462\n",
       "9         ExtraTreesClassifier  0.975822   0.952000  0.862319  0.904943\n",
       "10               XGBClassifier  0.970986   0.942623  0.833333  0.884615"
      ]
     },
     "execution_count": 59,
     "metadata": {},
     "output_type": "execute_result"
    }
   ],
   "source": [
    "accuracy_scores = []\n",
    "precision_scores = []\n",
    "recall_scores = []\n",
    "f1_scores = []\n",
    "model_names = []\n",
    "\n",
    "for name, clf in clfs.items():\n",
    "    accuracy, precision, recall, f1 = train_classifier(clf, x_train, y_train, x_test, y_test) # Training the classifier and getting the evaluation metrics\n",
    "    model_names.append(name) # Appending the model name\n",
    "    accuracy_scores.append(accuracy) # Appending the accuracy score\n",
    "    precision_scores.append(precision) # Appending the precision score\n",
    "    recall_scores.append(recall) # Appending the recall score\n",
    "    f1_scores.append(f1) # Appending the f1 score\n",
    "\n",
    "performance_df = pd.DataFrame({'Model': model_names, 'Accuracy': accuracy_scores, 'Precision': precision_scores, 'Recall': recall_scores, 'F1 Score': f1_scores}) # Creating a dataframe to display the performance of each model\n",
    "performance_df # Displaying the performance dataframe"
   ]
  },
  {
   "cell_type": "code",
   "execution_count": null,
   "id": "aaeda293",
   "metadata": {},
   "outputs": [],
   "source": []
  }
 ],
 "metadata": {
  "kernelspec": {
   "display_name": "Python 3",
   "language": "python",
   "name": "python3"
  },
  "language_info": {
   "codemirror_mode": {
    "name": "ipython",
    "version": 3
   },
   "file_extension": ".py",
   "mimetype": "text/x-python",
   "name": "python",
   "nbconvert_exporter": "python",
   "pygments_lexer": "ipython3",
   "version": "3.10.9"
  }
 },
 "nbformat": 4,
 "nbformat_minor": 5
}
